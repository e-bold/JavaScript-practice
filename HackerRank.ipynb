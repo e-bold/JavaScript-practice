{
 "cells": [
  {
   "cell_type": "code",
   "execution_count": null,
   "metadata": {
    "dotnet_interactive": {
     "language": "javascript"
    },
    "polyglot_notebook": {
     "kernelName": "javascript"
    }
   },
   "outputs": [],
   "source": [
    "function compare ( a ,b) {\n",
    "    let answer = [0, 0];\n",
    "    \n",
    "    if (a.length != b.length) {\n",
    "        \n",
    "        \n",
    "        return false;\n",
    "    \n",
    "    } else {\n",
    "        for (let i = 0; i < a.length; i++) {\n",
    "\n",
    "\n",
    "            if(a[i] > b[i]) {\n",
    "                answer[0] += 1;\n",
    "            \n",
    "            } else if ( a[i] < b[i]) {\n",
    "                answer[1] += 1;\n",
    "            };\n",
    "        \n",
    "        \n",
    "        }\n",
    "\n",
    "\n",
    "    return answer;\n",
    "    \n",
    "    } \n",
    "    }\n",
    "\n",
    "\n",
    "console.log(compare([ 17, 28, 30], [99, 16, 88]));\n",
    "\n",
    "/*The rating for Alice's challenge is the triplet a = (a[0], a[1], a[2]), and the rating for Bob's challenge is the triplet b = (b[0], b[1], b[2]).\n",
    "\n",
    "The task is to find their comparison points by comparing a[0] with b[0], a[1] with b[1], and a[2] with b[2].\n",
    "\n",
    "If a[i] > b[i], then Alice is awarded 1 point.\n",
    "If a[i] < b[i], then Bob is awarded 1 point.\n",
    "If a[i] = b[i], then neither person receives a point.\n",
    "Comparison points is the total points a person earned.\n",
    "\n",
    "Given a and b, determine their respective comparison points.\n",
    "\n",
    "Example\n",
    "\n",
    "a = [1, 2, 3]\n",
    "b = [3, 2, 1]\n",
    "For elements *0*, Bob is awarded a point because a[0] .\n",
    "For the equal elements a[1] and b[1], no points are earned.\n",
    "Finally, for elements 2, a[2] > b[2] so Alice receives a point.\n",
    "The return array is [1, 1] with Alice's score first and Bob's second.\n",
    "\n",
    "Function Description\n",
    "\n",
    "Complete the function compareTriplets in the editor below.\n",
    "\n",
    "compareTriplets has the following parameter(s):\n",
    "\n",
    "int a[3]: Alice's challenge rating\n",
    "int b[3]: Bob's challenge rating\n",
    "Return\n",
    "\n",
    "int[2]: Alice's score is in the first position, and Bob's score is in the second.\n",
    "*/\n"
   ]
  },
  {
   "cell_type": "code",
   "execution_count": 11,
   "metadata": {
    "dotnet_interactive": {
     "language": "javascript"
    },
    "polyglot_notebook": {
     "kernelName": "javascript"
    }
   },
   "outputs": [
    {
     "data": {
      "text/plain": [
       "9"
      ]
     },
     "metadata": {},
     "output_type": "display_data"
    },
    {
     "data": {
      "text/plain": [
       "4"
      ]
     },
     "metadata": {},
     "output_type": "display_data"
    },
    {
     "data": {
      "text/plain": [
       "The answer to the sum of first diagonal minus second diagonal is 9"
      ]
     },
     "metadata": {},
     "output_type": "display_data"
    }
   ],
   "source": [
    "function diagonalDifference(arr) {\n",
    "    // Write your code here\n",
    "    let n = arr.length;\n",
    "    let primaryDiagonalSum = 0;\n",
    "    let secondaryDiagonalSum = 0;\n",
    "\n",
    "    for (let i = 0; i < n; i++) {\n",
    "        primaryDiagonalSum += arr[i][i];\n",
    "        secondaryDiagonalSum += arr[i][n - i - 1];\n",
    "    }\n",
    "\n",
    "    return Math.abs(primaryDiagonalSum - secondaryDiagonalSum);\n",
    "\n",
    "};\n",
    "\n",
    "let array = [ \n",
    "    [10, 2, 3], \n",
    "    [4, 5, 6],  \n",
    "    [7, 8, 9]\n",
    "];\n",
    "\n",
    "console.log(array[2][2]);\n",
    "console.log(array[1][0]);\n",
    "console.log(\"The answer to the sum of first diagonal minus second diagonal is \" + diagonalDifference(array)) + \".\";\n",
    "\n",
    "\n"
   ]
  }
 ],
 "metadata": {
  "kernelspec": {
   "display_name": ".NET (C#)",
   "language": "C#",
   "name": ".net-csharp"
  },
  "polyglot_notebook": {
   "kernelInfo": {
    "defaultKernelName": "javascript",
    "items": [
     {
      "aliases": [],
      "languageName": "javascript",
      "name": "javascript"
     }
    ]
   }
  }
 },
 "nbformat": 4,
 "nbformat_minor": 2
}
